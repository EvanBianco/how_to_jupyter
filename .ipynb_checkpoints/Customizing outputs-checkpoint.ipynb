{
 "cells": [
  {
   "cell_type": "markdown",
   "metadata": {
    "slideshow": {
     "slide_type": "slide"
    }
   },
   "source": [
    "# Customizing display outputs"
   ]
  },
  {
   "cell_type": "code",
   "execution_count": 21,
   "metadata": {
    "collapsed": true,
    "slideshow": {
     "slide_type": "-"
    }
   },
   "outputs": [],
   "source": [
    "class Quantity(object):\n",
    "    def __init__(self, value, units=None):\n",
    "        self.value = value\n",
    "        self.units = units\n",
    "    \n",
    "    def __repr__(self):\n",
    "        return \"{} {}\".format(self.value, self.units)\n",
    "    \n",
    "    def _repr_html_(self):\n",
    "        html = \"${0}\\ \\mathrm{{{1}}}$\".format(self.value, self.units)\n",
    "        return html"
   ]
  },
  {
   "cell_type": "code",
   "execution_count": 22,
   "metadata": {
    "collapsed": false,
    "slideshow": {
     "slide_type": "-"
    }
   },
   "outputs": [
    {
     "data": {
      "text/html": [
       "$2650\\ \\mathrm{m/s}$"
      ],
      "text/plain": [
       "2650 m/s"
      ]
     },
     "execution_count": 22,
     "metadata": {},
     "output_type": "execute_result"
    }
   ],
   "source": [
    "v = Quantity(2650, 'm/s')\n",
    "v"
   ]
  },
  {
   "cell_type": "code",
   "execution_count": 23,
   "metadata": {
    "collapsed": true,
    "slideshow": {
     "slide_type": "slide"
    }
   },
   "outputs": [],
   "source": [
    "class PhoneTable(object):\n",
    "    \"\"\"\n",
    "    Initialize with a dictionary of properties. And does a nice\n",
    "    html rendered output.\n",
    "    \"\"\"\n",
    "\n",
    "    def __init__(self, properties):\n",
    "        for k, v in properties.items():\n",
    "            if k and v:\n",
    "                setattr(self, k, v)\n",
    "\n",
    "    def _repr_html_(self):\n",
    "        \"\"\"\n",
    "        IPython Notebook magic repr function.\n",
    "        \"\"\"\n",
    "        rows = ''\n",
    "        s = '<tr><td><strong>{k}</strong></td><td>{v}</td></tr>'\n",
    "        for k, v in self.__dict__.items():\n",
    "            rows += s.format(k=k, v=v)\n",
    "        html = '<table>{}</table>'.format(rows)\n",
    "        return html"
   ]
  },
  {
   "cell_type": "code",
   "execution_count": 24,
   "metadata": {
    "collapsed": false,
    "slideshow": {
     "slide_type": "slide"
    }
   },
   "outputs": [
    {
     "data": {
      "text/plain": [
       "{'Jerry': '555-1123', 'Joe': '555-2764', 'Suzie': '555-1234'}"
      ]
     },
     "execution_count": 24,
     "metadata": {},
     "output_type": "execute_result"
    }
   ],
   "source": [
    "my_pals = {'Joe':'555-2764', 'Jerry':'555-1123', 'Suzie':'555-1234'}\n",
    "my_pals"
   ]
  },
  {
   "cell_type": "code",
   "execution_count": 25,
   "metadata": {
    "collapsed": false,
    "slideshow": {
     "slide_type": "-"
    }
   },
   "outputs": [
    {
     "data": {
      "text/html": [
       "<table><tr><td><strong>Suzie</strong></td><td>555-1234</td></tr><tr><td><strong>Joe</strong></td><td>555-2764</td></tr><tr><td><strong>Jerry</strong></td><td>555-1123</td></tr></table>"
      ],
      "text/plain": [
       "<__main__.PhoneTable at 0x107420b00>"
      ]
     },
     "execution_count": 25,
     "metadata": {},
     "output_type": "execute_result"
    }
   ],
   "source": [
    "pretty_pals = PhoneTable(my_pals)\n",
    "pretty_pals"
   ]
  }
 ],
 "metadata": {
  "celltoolbar": "Slideshow",
  "kernelspec": {
   "display_name": "Python 3",
   "language": "python",
   "name": "python3"
  },
  "language_info": {
   "codemirror_mode": {
    "name": "ipython",
    "version": 3
   },
   "file_extension": ".py",
   "mimetype": "text/x-python",
   "name": "python",
   "nbconvert_exporter": "python",
   "pygments_lexer": "ipython3",
   "version": "3.4.3"
  }
 },
 "nbformat": 4,
 "nbformat_minor": 0
}
