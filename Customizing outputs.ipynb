{
 "cells": [
  {
   "cell_type": "markdown",
   "metadata": {
    "slideshow": {
     "slide_type": "slide"
    }
   },
   "source": [
    "Customizing display outputs"
   ]
  },
  {
   "cell_type": "markdown",
   "metadata": {
    "slideshow": {
     "slide_type": "fragment"
    }
   },
   "source": [
    "Normally the __repr__() function is what tells Python what to do if you just type the name of an object on the command line\n",
    "\n",
    "This function tells Jupyter Notebook what to do when you type the name of an object in a Notebook cell…. (without it, Notebook just does whatever __repr__() tells it as a default).\n",
    "\n",
    "So you would add this function (above) to your class definition and your objects would have this magical behaviour"
   ]
  },
  {
   "cell_type": "markdown",
   "metadata": {
    "slideshow": {
     "slide_type": "slide"
    }
   },
   "source": [
    "example: render a quantity with units."
   ]
  },
  {
   "cell_type": "code",
   "execution_count": 6,
   "metadata": {
    "collapsed": true,
    "slideshow": {
     "slide_type": "fragment"
    }
   },
   "outputs": [],
   "source": [
    "class Quantity(object):\n",
    "    def __init__(self, value, units=None):\n",
    "        self.value = value\n",
    "        self.units = units\n",
    "    \n",
    "    def __repr__(self):\n",
    "        return \"{} {}\".format(self.value, self.units)\n",
    "    \n",
    "    def _repr_html_(self):\n",
    "        \"\"\"\n",
    "        Magical Jupyter Notebook repr\n",
    "        \"\"\"\n",
    "        html = \"${0}\\ \\mathrm{{{1}}}$\".format(self.value, self.units)\n",
    "        return html"
   ]
  },
  {
   "cell_type": "code",
   "execution_count": 7,
   "metadata": {
    "collapsed": false,
    "slideshow": {
     "slide_type": "slide"
    }
   },
   "outputs": [
    {
     "data": {
      "text/html": [
       "$2650\\ \\mathrm{m/s}$"
      ],
      "text/plain": [
       "2650 m/s"
      ]
     },
     "execution_count": 7,
     "metadata": {},
     "output_type": "execute_result"
    }
   ],
   "source": [
    "v = Quantity(2650, 'm/s')\n",
    "v"
   ]
  },
  {
   "cell_type": "markdown",
   "metadata": {
    "slideshow": {
     "slide_type": "slide"
    }
   },
   "source": [
    "example 2: render a dictionary as a nice html table"
   ]
  },
  {
   "cell_type": "code",
   "execution_count": 3,
   "metadata": {
    "collapsed": true,
    "slideshow": {
     "slide_type": "fragment"
    }
   },
   "outputs": [],
   "source": [
    "class PhoneTable(object):\n",
    "    \"\"\"\n",
    "    Initialize with a dictionary of properties. And does a nice\n",
    "    html rendered output.\n",
    "    \"\"\"\n",
    "\n",
    "    def __init__(self, properties):\n",
    "        for k, v in properties.items():\n",
    "            if k and v:\n",
    "                setattr(self, k.lower(), v.lower())\n",
    "\n",
    "    def __repr__(self):\n",
    "        s = str(self)\n",
    "        return \"Component({0})\".format(s)\n",
    "\n",
    "    def __str__(self):\n",
    "        s = []\n",
    "        for key in self.__dict__:\n",
    "            t = '\"{key}\":\"{value}\"'\n",
    "            s.append(t.format(key=key, value=self.__dict__[key]))\n",
    "        return ', '.join(s)\n",
    "\n",
    "    def __getitem__(self, key):\n",
    "        \"\"\"\n",
    "        So we can get at attributes with variables.\n",
    "        \"\"\"\n",
    "        return self.__dict__.get(key)\n",
    "\n",
    "    def __bool__(self):\n",
    "        if not self.__dict__.keys():\n",
    "            return False\n",
    "        else:\n",
    "            return True\n",
    "\n",
    "    # For Python 2\n",
    "    __nonzero__ = __bool__\n",
    "\n",
    "\n",
    "    def _repr_html_(self):\n",
    "        \"\"\"\n",
    "        IPython Notebook magic repr function.\n",
    "        \"\"\"\n",
    "        rows = ''\n",
    "        s = '<tr><td><strong>{k}</strong></td><td>{v}</td></tr>'\n",
    "        for k, v in self.__dict__.items():\n",
    "            rows += s.format(k=k, v=v)\n",
    "        html = '<table>{}</table>'.format(rows)\n",
    "        return html"
   ]
  },
  {
   "cell_type": "code",
   "execution_count": 4,
   "metadata": {
    "collapsed": false,
    "slideshow": {
     "slide_type": "slide"
    }
   },
   "outputs": [
    {
     "data": {
      "text/plain": [
       "{'Jerry': '555-1123', 'Joe': '555-2764', 'Suzie': '555-1234'}"
      ]
     },
     "execution_count": 4,
     "metadata": {},
     "output_type": "execute_result"
    }
   ],
   "source": [
    "my_pals = {'Joe':'555-2764', 'Jerry':'555-1123', 'Suzie':'555-1234'}\n",
    "my_pals"
   ]
  },
  {
   "cell_type": "code",
   "execution_count": 5,
   "metadata": {
    "collapsed": false,
    "slideshow": {
     "slide_type": "fragment"
    }
   },
   "outputs": [
    {
     "data": {
      "text/html": [
       "<table><tr><td><strong>joe</strong></td><td>555-2764</td></tr><tr><td><strong>suzie</strong></td><td>555-1234</td></tr><tr><td><strong>jerry</strong></td><td>555-1123</td></tr></table>"
      ],
      "text/plain": [
       "Component(\"joe\":\"555-2764\", \"suzie\":\"555-1234\", \"jerry\":\"555-1123\")"
      ]
     },
     "execution_count": 5,
     "metadata": {},
     "output_type": "execute_result"
    }
   ],
   "source": [
    "pretty_pals = PhoneTable(my_pals)\n",
    "pretty_pals"
   ]
  }
 ],
 "metadata": {
  "celltoolbar": "Slideshow",
  "kernelspec": {
   "display_name": "Python 3",
   "language": "python",
   "name": "python3"
  },
  "language_info": {
   "codemirror_mode": {
    "name": "ipython",
    "version": 3
   },
   "file_extension": ".py",
   "mimetype": "text/x-python",
   "name": "python",
   "nbconvert_exporter": "python",
   "pygments_lexer": "ipython3",
   "version": "3.4.3"
  }
 },
 "nbformat": 4,
 "nbformat_minor": 0
}
