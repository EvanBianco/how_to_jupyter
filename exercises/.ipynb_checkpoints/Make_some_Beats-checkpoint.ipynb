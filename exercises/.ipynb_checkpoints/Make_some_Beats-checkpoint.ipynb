{
 "cells": [
  {
   "cell_type": "markdown",
   "metadata": {
    "slideshow": {
     "slide_type": "slide"
    }
   },
   "source": [
    "Beat frequencies"
   ]
  },
  {
   "cell_type": "markdown",
   "metadata": {
    "slideshow": {
     "slide_type": "fragment"
    }
   },
   "source": [
    "1. Make a plot of one or more waveforms (sine wave, saw-tooth wave, etc) in the audible frequency range (50-300 Hz).\n",
    "\n",
    "2. Create a plot of your waveforms with a drop-down box to control the color of each wave.\n",
    "\n",
    "3. Record your waveform as an audio object and try not to annoy your neighbours!"
   ]
  },
  {
   "cell_type": "code",
   "execution_count": 1,
   "metadata": {
    "collapsed": true,
    "slideshow": {
     "slide_type": "fragment"
    }
   },
   "outputs": [],
   "source": [
    "import numpy as np\n",
    "L = 4 # length of signals\n",
    "f1 = 105.0 # frequency of first sine wave\n",
    "f2 = 106.0 # frequency of second sine wave\n",
    "rate = 8000.0 # sample rate of the signal (samples per second)"
   ]
  }
 ],
 "metadata": {
  "celltoolbar": "Slideshow",
  "kernelspec": {
   "display_name": "Python 3",
   "language": "python",
   "name": "python3"
  },
  "language_info": {
   "codemirror_mode": {
    "name": "ipython",
    "version": 3
   },
   "file_extension": ".py",
   "mimetype": "text/x-python",
   "name": "python",
   "nbconvert_exporter": "python",
   "pygments_lexer": "ipython3",
   "version": "3.4.3"
  }
 },
 "nbformat": 4,
 "nbformat_minor": 0
}
