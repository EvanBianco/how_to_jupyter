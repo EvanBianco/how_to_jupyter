{
 "cells": [
  {
   "cell_type": "markdown",
   "metadata": {
    "slideshow": {
     "slide_type": "slide"
    }
   },
   "source": [
    "# Fun with topography"
   ]
  },
  {
   "cell_type": "markdown",
   "metadata": {
    "slideshow": {
     "slide_type": "slide"
    }
   },
   "source": [
    "Get some data"
   ]
  },
  {
   "cell_type": "code",
   "execution_count": null,
   "metadata": {
    "collapsed": false,
    "slideshow": {
     "slide_type": "-"
    }
   },
   "outputs": [],
   "source": [
    "import numpy as np\n",
    "z = np.load('data/topography.npy')\n",
    "nx, ny = z.shape\n",
    "nx, ny"
   ]
  },
  {
   "cell_type": "markdown",
   "metadata": {
    "slideshow": {
     "slide_type": "slide"
    }
   },
   "source": [
    "# Look at the data"
   ]
  },
  {
   "cell_type": "code",
   "execution_count": null,
   "metadata": {
    "collapsed": false,
    "slideshow": {
     "slide_type": "-"
    }
   },
   "outputs": [],
   "source": [
    "import matplotlib.pyplot as plt\n",
    "\n",
    "%matplotlib inline\n",
    "\n",
    "plt.imshow(z, cmap='gist_earth')\n",
    "plt.show()"
   ]
  },
  {
   "cell_type": "markdown",
   "metadata": {
    "slideshow": {
     "slide_type": "slide"
    }
   },
   "source": [
    "# Interactive visualization"
   ]
  },
  {
   "cell_type": "code",
   "execution_count": null,
   "metadata": {
    "collapsed": true,
    "slideshow": {
     "slide_type": "fragment"
    }
   },
   "outputs": [],
   "source": [
    "from pythreejs import *\n",
    "from IPython.display import display\n",
    "try:\n",
    "    from ipywidgets import HTML, Text\n",
    "    from traitlets import link, dlink\n",
    "except ImportError:\n",
    "    from IPython.html.widgets import HTML, Text\n",
    "    from IPython.utils.traitlets import link, dlink"
   ]
  },
  {
   "cell_type": "code",
   "execution_count": null,
   "metadata": {
    "collapsed": false,
    "slideshow": {
     "slide_type": "slide"
    }
   },
   "outputs": [],
   "source": [
    "surf_g = SurfaceGeometry(z=list(z[::-1].flat), \n",
    "                          width=nx,\n",
    "                          height=nx,\n",
    "                          width_segments=nx-1,\n",
    "                          height_segments=ny-1)\n",
    "\n",
    "surf = Mesh(geometry=surf_g, material=LambertMaterial(map=height_texture(z[::-1], 'gist_earth')))\n",
    "surfgrid = SurfaceGrid(geometry=surf_g, material=LineBasicMaterial(color='white', linewidth=0.1))\n",
    "hover_point = Mesh(geometry=SphereGeometry(radius=1), material=LambertMaterial(color='hotpink'))\n",
    "scene = Scene(children=[surf, \n",
    "                        #surfgrid, \n",
    "                        hover_point, \n",
    "                        AmbientLight(color=0x777777)])\n",
    "c = PerspectiveCamera(position=[200,20,300], up=[0,0,1], \n",
    "                      children=[DirectionalLight(color='white', position=[3,5,1], intensity=0.75)])\n",
    "click_picker = Picker(root=surf, event='dblclick')\n",
    "hover_picker = Picker(root=surf, event='mousemove')\n",
    "renderer = Renderer(camera=c, \n",
    "                    scene= scene,\n",
    "                    width=600,\n",
    "                    height=400,\n",
    "                    controls=[OrbitControls(controlling=c), \n",
    "                    click_picker, hover_picker])"
   ]
  },
  {
   "cell_type": "code",
   "execution_count": null,
   "metadata": {
    "collapsed": true,
    "slideshow": {
     "slide_type": "slide"
    }
   },
   "outputs": [],
   "source": [
    "def f(name, value):\n",
    "    print(\"Clicked on %s\"%value)\n",
    "    point = Mesh(geometry=SphereGeometry(radius=1), \n",
    "                              material=LambertMaterial(color='red'),\n",
    "                             position=value)\n",
    "    scene.children = list(scene.children)+[point]\n",
    "    \n",
    "click_picker.on_trait_change(f, 'point')\n",
    "\n",
    "link((hover_point, 'position'), (hover_picker, 'point'))\n",
    "\n",
    "h = HTML()\n",
    "def g(name, value):\n",
    "    h.value=\"cursor point at (%.3f, %.3f, %.3f)\"%tuple(value)\n",
    "\n",
    "g(None, hover_point.position)"
   ]
  },
  {
   "cell_type": "code",
   "execution_count": null,
   "metadata": {
    "collapsed": false,
    "slideshow": {
     "slide_type": "slide"
    }
   },
   "outputs": [],
   "source": [
    "hover_picker.on_trait_change(g, 'point')\n",
    "display(h)\n",
    "display(renderer)"
   ]
  }
 ],
 "metadata": {
  "celltoolbar": "Slideshow",
  "kernelspec": {
   "display_name": "Python 3",
   "language": "python",
   "name": "python3"
  },
  "language_info": {
   "codemirror_mode": {
    "name": "ipython",
    "version": 3
   },
   "file_extension": ".py",
   "mimetype": "text/x-python",
   "name": "python",
   "nbconvert_exporter": "python",
   "pygments_lexer": "ipython3",
   "version": "3.4.3"
  }
 },
 "nbformat": 4,
 "nbformat_minor": 0
}
